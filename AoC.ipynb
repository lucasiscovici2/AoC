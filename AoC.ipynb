{
  "nbformat": 4,
  "nbformat_minor": 0,
  "metadata": {
    "colab": {
      "provenance": [],
      "collapsed_sections": [
        "7ApL8NP9wC-U",
        "6Va9POcWwEWk",
        "gtJbGrvzw4ss",
        "Bk5abFxExnSr",
        "Ud654pObxpfR",
        "xes6ucfNyd8y",
        "MbqYy5l80dzG",
        "AVZcGheP0wbp",
        "FzFbu_Uq1Cvc",
        "eriaNQB05whU",
        "BHcQBOld6R--",
        "6CQTwrKh6U-a",
        "8HBZxN4H6yfs",
        "Ns-l0y618RtL",
        "ozRda0-08GMg",
        "TRNgNYx7-Ggb",
        "OY_BthqM_LYc",
        "kFB-G1Jv_PRL",
        "xZARJhUq_XmN",
        "WOG6cmMY_1_x",
        "CutxmikOABjH",
        "koCdfnInBbh1",
        "CC8WFZe3CmnO",
        "J3saRBWsDBk_",
        "3yiTo0w8DH3u",
        "Ow7y-rRLDkMi",
        "lOLkrKmWDl-W"
      ],
      "toc_visible": true,
      "authorship_tag": "ABX9TyME5HgdNTUEKcpDA8F2KCqr",
      "include_colab_link": true
    },
    "kernelspec": {
      "name": "python3",
      "display_name": "Python 3"
    },
    "language_info": {
      "name": "python"
    }
  },
  "cells": [
    {
      "cell_type": "markdown",
      "metadata": {
        "id": "view-in-github",
        "colab_type": "text"
      },
      "source": [
        "<a href=\"https://colab.research.google.com/github/lucasiscovici2/AoC/blob/main/AoC.ipynb\" target=\"_parent\"><img src=\"https://colab.research.google.com/assets/colab-badge.svg\" alt=\"Open In Colab\"/></a>"
      ]
    },
    {
      "cell_type": "markdown",
      "source": [
        "imports"
      ],
      "metadata": {
        "id": "a-NWoubgxkra"
      }
    },
    {
      "cell_type": "code",
      "source": [
        "from typing import List\n",
        "from dataclasses import dataclass\n",
        "from pathlib import Path\n",
        "from collections import defaultdict\n",
        "from functools import reduce\n",
        "import string\n",
        "import operator\n",
        "import math\n",
        "\n",
        "import pandas as pd\n",
        "import numpy as np"
      ],
      "metadata": {
        "id": "WmOb7RcYxiIq"
      },
      "execution_count": 3,
      "outputs": []
    },
    {
      "cell_type": "markdown",
      "source": [
        "#DAY 1"
      ],
      "metadata": {
        "id": "7ApL8NP9wC-U"
      }
    },
    {
      "cell_type": "markdown",
      "source": [
        "read data"
      ],
      "metadata": {
        "id": "rmrzpn1Ww9Xh"
      }
    },
    {
      "cell_type": "code",
      "execution_count": null,
      "metadata": {
        "id": "saF2Zknyv_WB"
      },
      "outputs": [],
      "source": [
        "text=pd.read_csv(\"input.txt\", skip_blank_lines=False, header=None).fillna(0)\n",
        "text.columns=[\"t\"]"
      ]
    },
    {
      "cell_type": "markdown",
      "source": [
        "create g2 col"
      ],
      "metadata": {
        "id": "MeRl-ZuSxAJ5"
      }
    },
    {
      "cell_type": "code",
      "source": [
        "text[\"g2\"]=np.nan\n",
        "text.loc[text[text[\"t\"]==0].index,\"g2\"]=list(range(267))\n",
        "text[\"g2\"]=text[\"g2\"].fillna(method=\"ffill\").fillna(-1)"
      ],
      "metadata": {
        "id": "fUlNVnNmwRgw"
      },
      "execution_count": null,
      "outputs": []
    },
    {
      "cell_type": "markdown",
      "source": [
        "## part 1"
      ],
      "metadata": {
        "id": "6Va9POcWwEWk"
      }
    },
    {
      "cell_type": "markdown",
      "source": [
        "find max"
      ],
      "metadata": {
        "id": "ynkq5Bm6xFym"
      }
    },
    {
      "cell_type": "code",
      "source": [
        "text.groupby(\"g2\").sum().max()[0]"
      ],
      "metadata": {
        "colab": {
          "base_uri": "https://localhost:8080/"
        },
        "id": "EMdncxprwTG1",
        "outputId": "054f02de-037f-4e5f-e3ed-c18439ad29ec"
      },
      "execution_count": null,
      "outputs": [
        {
          "output_type": "execute_result",
          "data": {
            "text/plain": [
              "70116.0"
            ]
          },
          "metadata": {},
          "execution_count": 6
        }
      ]
    },
    {
      "cell_type": "markdown",
      "source": [
        "##part 2"
      ],
      "metadata": {
        "id": "gtJbGrvzw4ss"
      }
    },
    {
      "cell_type": "markdown",
      "source": [
        "find sum of top three"
      ],
      "metadata": {
        "id": "O2hF74otxSVv"
      }
    },
    {
      "cell_type": "code",
      "source": [
        "text.groupby(\"g2\").sum()[\"t\"].sort_values().iloc[-3:].sum()"
      ],
      "metadata": {
        "colab": {
          "base_uri": "https://localhost:8080/"
        },
        "id": "Tq3KavNQwbK_",
        "outputId": "dfb34e6c-74b4-4177-bae3-685bfddbe6db"
      },
      "execution_count": null,
      "outputs": [
        {
          "output_type": "execute_result",
          "data": {
            "text/plain": [
              "206582.0"
            ]
          },
          "metadata": {},
          "execution_count": 5
        }
      ]
    },
    {
      "cell_type": "markdown",
      "source": [
        "# DAY 2"
      ],
      "metadata": {
        "id": "Bk5abFxExnSr"
      }
    },
    {
      "cell_type": "markdown",
      "source": [
        "read data"
      ],
      "metadata": {
        "id": "y4UxyXj8zFT0"
      }
    },
    {
      "cell_type": "code",
      "source": [
        "data=pd.read_csv(\"input.txt\",header=None, sep=\" \")\n",
        "data.columns=[\"him\",\"me\"]"
      ],
      "metadata": {
        "id": "YV1mj7lE1fxx"
      },
      "execution_count": null,
      "outputs": []
    },
    {
      "cell_type": "markdown",
      "source": [
        "## part 1"
      ],
      "metadata": {
        "id": "Ud654pObxpfR"
      }
    },
    {
      "cell_type": "code",
      "source": [
        "d=data.copy()"
      ],
      "metadata": {
        "id": "sWEi2tE61k7-"
      },
      "execution_count": null,
      "outputs": []
    },
    {
      "cell_type": "markdown",
      "source": [
        "add meMoney col - 1,2 or 3"
      ],
      "metadata": {
        "id": "Vu5jGDdkzHFn"
      }
    },
    {
      "cell_type": "code",
      "source": [
        "d[\"meMoney\"]=d[\"me\"].map(lambda x:1 if x==\"X\" else (2 if x==\"Y\" else 3))"
      ],
      "metadata": {
        "id": "PS_zcmigyMXf"
      },
      "execution_count": null,
      "outputs": []
    },
    {
      "cell_type": "markdown",
      "source": [
        "replace A-B-C to R-P-S  \n",
        "replace X-Y-Z to R-P-S"
      ],
      "metadata": {
        "id": "58JjqAeSzLiz"
      }
    },
    {
      "cell_type": "code",
      "source": [
        "d[\"him2\"]=d.him.map({\"A\":\"R\",\"B\":\"P\",\"C\":\"S\"})\n",
        "d[\"me2\"]=d.me.map({\"X\":\"R\",\"Y\":\"P\",\"Z\":\"S\"})"
      ],
      "metadata": {
        "id": "bS7TwzIoyQAI"
      },
      "execution_count": null,
      "outputs": []
    },
    {
      "cell_type": "markdown",
      "source": [
        "create score col "
      ],
      "metadata": {
        "id": "xAKnBCe-zVrd"
      }
    },
    {
      "cell_type": "code",
      "source": [
        "d[\"score\"]=0"
      ],
      "metadata": {
        "id": "KLieK-ieyVEY"
      },
      "execution_count": null,
      "outputs": []
    },
    {
      "cell_type": "markdown",
      "source": [
        "set 3 to score if draw"
      ],
      "metadata": {
        "id": "zqAa0giKzYZa"
      }
    },
    {
      "cell_type": "code",
      "source": [
        "d.loc[d.me2==d.him2,\"score\"]=3"
      ],
      "metadata": {
        "id": "r66yBhuWyWYe"
      },
      "execution_count": null,
      "outputs": []
    },
    {
      "cell_type": "markdown",
      "source": [
        "set 6 to score if me beat him"
      ],
      "metadata": {
        "id": "3v3A4jqczhTN"
      }
    },
    {
      "cell_type": "code",
      "source": [
        "d.loc[(d.me2==\"P\") & (d.him2 == \"R\"),\"score\"]=6\n",
        "d.loc[(d.me2==\"R\") & (d.him2 == \"S\"),\"score\"]=6\n",
        "d.loc[(d.me2==\"S\") & (d.him2 == \"P\"),\"score\"]=6"
      ],
      "metadata": {
        "id": "2w1a9v5TyX1t"
      },
      "execution_count": null,
      "outputs": []
    },
    {
      "cell_type": "markdown",
      "source": [
        "calculate the sum"
      ],
      "metadata": {
        "id": "TMZiK0m1zo8i"
      }
    },
    {
      "cell_type": "code",
      "source": [
        "(d.meMoney+d.score).sum()"
      ],
      "metadata": {
        "colab": {
          "base_uri": "https://localhost:8080/"
        },
        "id": "7xiKIS-LyZay",
        "outputId": "dab1cfc0-9059-46d8-aeb2-29916ffe0fdc"
      },
      "execution_count": null,
      "outputs": [
        {
          "output_type": "execute_result",
          "data": {
            "text/plain": [
              "11873"
            ]
          },
          "metadata": {},
          "execution_count": 56
        }
      ]
    },
    {
      "cell_type": "markdown",
      "source": [
        "## part 2"
      ],
      "metadata": {
        "id": "xes6ucfNyd8y"
      }
    },
    {
      "cell_type": "markdown",
      "source": [
        "copy df and create score2 and choose col"
      ],
      "metadata": {
        "id": "HNmdGy0EzuKI"
      }
    },
    {
      "cell_type": "code",
      "source": [
        "d2=data.copy()\n",
        "d2[\"score2\"]=0\n",
        "d2[\"choose\"]=\"\""
      ],
      "metadata": {
        "id": "fWFTsSypyaqD"
      },
      "execution_count": null,
      "outputs": []
    },
    {
      "cell_type": "markdown",
      "source": [
        "set choose col with the right value according to me & him"
      ],
      "metadata": {
        "id": "KGI8i6czzx1z"
      }
    },
    {
      "cell_type": "code",
      "source": [
        "d2.loc[(d2.him==\"A\")&(d2.me==\"Z\"),\"choose\"]=\"P\"\n",
        "d2.loc[(d2.him==\"A\")&(d2.me==\"Y\"),\"choose\"]=\"R\"\n",
        "d2.loc[(d2.him==\"A\")&(d2.me==\"X\"),\"choose\"]=\"S\"\n",
        "\n",
        "d2.loc[(d2.him==\"B\")&(d2.me==\"Z\"),\"choose\"]=\"S\"\n",
        "d2.loc[(d2.him==\"B\")&(d2.me==\"Y\"),\"choose\"]=\"P\"\n",
        "d2.loc[(d2.him==\"B\")&(d2.me==\"X\"),\"choose\"]=\"R\"\n",
        "\n",
        "d2.loc[(d2.him==\"C\")&(d2.me==\"Z\"),\"choose\"]=\"R\"\n",
        "d2.loc[(d2.him==\"C\")&(d2.me==\"Y\"),\"choose\"]=\"S\"\n",
        "d2.loc[(d2.him==\"C\")&(d2.me==\"X\"),\"choose\"]=\"P\""
      ],
      "metadata": {
        "id": "N4DxfJCVyi5T"
      },
      "execution_count": null,
      "outputs": []
    },
    {
      "cell_type": "markdown",
      "source": [
        "add meMoney2 with 1,2 or 3"
      ],
      "metadata": {
        "id": "p9RCGPqY0EDM"
      }
    },
    {
      "cell_type": "code",
      "source": [
        "d2[\"meMoney2\"]=d2[\"choose\"].map(lambda x:1 if x==\"R\" else (2 if x==\"P\" else 3))"
      ],
      "metadata": {
        "id": "zhINiufBy0ra"
      },
      "execution_count": null,
      "outputs": []
    },
    {
      "cell_type": "markdown",
      "source": [
        "add meMoney2 in score2"
      ],
      "metadata": {
        "id": "gJoYo72Y0Lc4"
      }
    },
    {
      "cell_type": "code",
      "source": [
        "d2[\"score2\"]+=d2[\"meMoney2\"]"
      ],
      "metadata": {
        "id": "zXptJCsSy3qw"
      },
      "execution_count": null,
      "outputs": []
    },
    {
      "cell_type": "markdown",
      "source": [
        "add 3 to score2 if me == Y (draw)"
      ],
      "metadata": {
        "id": "2LSswF8n0Oui"
      }
    },
    {
      "cell_type": "code",
      "source": [
        "d2.loc[d2.me==\"Y\",\"score2\"]+=3"
      ],
      "metadata": {
        "id": "7iY6FVlly5y8"
      },
      "execution_count": null,
      "outputs": []
    },
    {
      "cell_type": "markdown",
      "source": [
        "add 6 to score2 if me == \"Z\" (win)"
      ],
      "metadata": {
        "id": "hlA8Hz880TsO"
      }
    },
    {
      "cell_type": "code",
      "source": [
        "d2.loc[d2.me==\"Z\",\"score2\"]+=6"
      ],
      "metadata": {
        "id": "5ClUyjIYy9QE"
      },
      "execution_count": null,
      "outputs": []
    },
    {
      "cell_type": "markdown",
      "source": [
        "calculate the sum"
      ],
      "metadata": {
        "id": "QTj3wla_0XLq"
      }
    },
    {
      "cell_type": "code",
      "source": [
        "d2.score2.sum()"
      ],
      "metadata": {
        "colab": {
          "base_uri": "https://localhost:8080/"
        },
        "id": "tcK8azxoy_Nc",
        "outputId": "f03054c7-b605-4687-f98e-e5e1b8bb35a9"
      },
      "execution_count": null,
      "outputs": [
        {
          "output_type": "execute_result",
          "data": {
            "text/plain": [
              "12014"
            ]
          },
          "metadata": {},
          "execution_count": 63
        }
      ]
    },
    {
      "cell_type": "markdown",
      "source": [
        "#DAY 3"
      ],
      "metadata": {
        "id": "MbqYy5l80dzG"
      }
    },
    {
      "cell_type": "markdown",
      "source": [
        "get dict with lowercase key (a-z) and value (1-26)   \n",
        "get dict with uppercase key (A-Z) and value (27-52)    \n",
        "merge both\n"
      ],
      "metadata": {
        "id": "OlI8dD6j2S5p"
      }
    },
    {
      "cell_type": "code",
      "source": [
        "lowercase_priority=dict([*zip(string.ascii_lowercase,range(1,27))])\n",
        "uppercase_priority=dict([*zip(string.ascii_uppercase,range(27,53))])\n",
        "priority={**lowercase_priority, **uppercase_priority}"
      ],
      "metadata": {
        "id": "pojYjEAF1VBa"
      },
      "execution_count": null,
      "outputs": []
    },
    {
      "cell_type": "markdown",
      "source": [
        "read data"
      ],
      "metadata": {
        "id": "HungmjHK2r4X"
      }
    },
    {
      "cell_type": "code",
      "source": [
        "text_list=Path(\"input.txt\").read_text().split(\"\\n\")"
      ],
      "metadata": {
        "id": "6AGD-8N41aWY"
      },
      "execution_count": null,
      "outputs": []
    },
    {
      "cell_type": "markdown",
      "source": [
        "## part 1"
      ],
      "metadata": {
        "id": "AVZcGheP0wbp"
      }
    },
    {
      "cell_type": "markdown",
      "source": [
        "split text in two parts (split by middle)"
      ],
      "metadata": {
        "id": "62gr2D4m2PHB"
      }
    },
    {
      "cell_type": "code",
      "source": [
        "text_set_two_parts=[(set(text[:len(text)//2]),set(text[len(text)//2:])) for text in text_list]"
      ],
      "metadata": {
        "id": "UKPSxLbA03LU"
      },
      "execution_count": null,
      "outputs": []
    },
    {
      "cell_type": "markdown",
      "source": [
        "find the priority of the letter that is in both parts"
      ],
      "metadata": {
        "id": "mO0pm9xP3tOt"
      }
    },
    {
      "cell_type": "code",
      "source": [
        "priority_by_backpack=[priority[(sets[1]&sets[0]).pop()] for sets in text_set_two_parts]"
      ],
      "metadata": {
        "id": "56mQRHtO0-U-"
      },
      "execution_count": null,
      "outputs": []
    },
    {
      "cell_type": "markdown",
      "source": [
        "sum priorities"
      ],
      "metadata": {
        "id": "nnO6Xclz4CqH"
      }
    },
    {
      "cell_type": "code",
      "source": [
        "sum(priority_by_backpack)"
      ],
      "metadata": {
        "colab": {
          "base_uri": "https://localhost:8080/"
        },
        "id": "oGi-DpHa1AoW",
        "outputId": "36295082-6cc1-46ab-9b8d-93803fac0272"
      },
      "execution_count": null,
      "outputs": [
        {
          "output_type": "execute_result",
          "data": {
            "text/plain": [
              "7737"
            ]
          },
          "metadata": {},
          "execution_count": 107
        }
      ]
    },
    {
      "cell_type": "markdown",
      "source": [
        "## part 2"
      ],
      "metadata": {
        "id": "FzFbu_Uq1Cvc"
      }
    },
    {
      "cell_type": "markdown",
      "source": [
        "group by 3 lines"
      ],
      "metadata": {
        "id": "ElNdpTok4kFy"
      }
    },
    {
      "cell_type": "code",
      "source": [
        "list_by_group=np.asarray(text_list).reshape((-1,3)).tolist()"
      ],
      "metadata": {
        "id": "CplRl5gL1B0p"
      },
      "execution_count": null,
      "outputs": []
    },
    {
      "cell_type": "markdown",
      "source": [
        "find the priority of the letter that is in the 3 lines"
      ],
      "metadata": {
        "id": "EeEhuwJp40L3"
      }
    },
    {
      "cell_type": "code",
      "source": [
        "priority_by_group = [\n",
        "    priority[reduce(operator.and_,map(set, list_letters)).pop()]\n",
        "    for list_letters in list_by_group\n",
        "]"
      ],
      "metadata": {
        "id": "Ibw0Aqcv1I2g"
      },
      "execution_count": null,
      "outputs": []
    },
    {
      "cell_type": "markdown",
      "source": [
        "sum priorities"
      ],
      "metadata": {
        "id": "Fjj1VOzX5qM7"
      }
    },
    {
      "cell_type": "code",
      "source": [
        "sum(priority_by_group)"
      ],
      "metadata": {
        "colab": {
          "base_uri": "https://localhost:8080/"
        },
        "id": "J6R7e0cZ1NHd",
        "outputId": "f7493f70-63b5-4279-a026-e30b9d29ed24"
      },
      "execution_count": null,
      "outputs": [
        {
          "output_type": "execute_result",
          "data": {
            "text/plain": [
              "2697"
            ]
          },
          "metadata": {},
          "execution_count": 106
        }
      ]
    },
    {
      "cell_type": "markdown",
      "source": [
        "# DAY 4"
      ],
      "metadata": {
        "id": "eriaNQB05whU"
      }
    },
    {
      "cell_type": "markdown",
      "source": [
        "read data"
      ],
      "metadata": {
        "id": "EgL3gB9M6WnU"
      }
    },
    {
      "cell_type": "code",
      "source": [
        "g=pd.DataFrame(zip(a.a.str.split(\"-\"),a.b.str.split(\"-\")))\n",
        "g.columns=['a',\"b\"]"
      ],
      "metadata": {
        "id": "X-SpDsSd5zR5"
      },
      "execution_count": null,
      "outputs": []
    },
    {
      "cell_type": "markdown",
      "source": [
        "## part 1"
      ],
      "metadata": {
        "id": "BHcQBOld6R--"
      }
    },
    {
      "cell_type": "markdown",
      "source": [
        "find contained"
      ],
      "metadata": {
        "id": "o7NykdJB6Xkz"
      }
    },
    {
      "cell_type": "code",
      "source": [
        "g[\"isContained\"] = g.apply(\n",
        "    lambda o: \n",
        "       ((int(o.a[0]) <= int(o.b[0])) & (int(o.a[1]) >= int(o.b[1]))) \n",
        "     | ((int(o.b[0]) <= int(o.a[0])) & (int(o.b[1]) >= int(o.a[1]))),\n",
        "    axis=1,\n",
        ")\n"
      ],
      "metadata": {
        "id": "WLR4Kxw257wH"
      },
      "execution_count": null,
      "outputs": []
    },
    {
      "cell_type": "code",
      "source": [
        "sum(g.isContained)"
      ],
      "metadata": {
        "colab": {
          "base_uri": "https://localhost:8080/"
        },
        "id": "_5ryK8e56Gwd",
        "outputId": "19e81a7a-96e1-4055-8483-ff57351eb0a0"
      },
      "execution_count": null,
      "outputs": [
        {
          "output_type": "execute_result",
          "data": {
            "text/plain": [
              "509"
            ]
          },
          "metadata": {},
          "execution_count": 121
        }
      ]
    },
    {
      "cell_type": "markdown",
      "source": [
        "## part 2"
      ],
      "metadata": {
        "id": "6CQTwrKh6U-a"
      }
    },
    {
      "cell_type": "markdown",
      "source": [
        "find overlap"
      ],
      "metadata": {
        "id": "daNnYfz96vku"
      }
    },
    {
      "cell_type": "code",
      "source": [
        "g[\"overlap\"]=g.apply(lambda o:\n",
        "                     ((int(o.a[0])<=int(o.b[0])) & (int(o.a[1])>=int(o.b[0])))\n",
        "                     |\n",
        "                     ((int(o.b[0])<=int(o.a[0])) & (int(o.b[1])>=int(o.a[0])))\n",
        "                     |\n",
        "                     ((int(o.a[0])<=int(o.b[1])) & (int(o.a[1])>=int(o.b[1])))\n",
        "                     |\n",
        "                     ((int(o.b[0])<=int(o.a[1])) & (int(o.b[1])>=int(o.a[1]))),axis=1)"
      ],
      "metadata": {
        "id": "jjCEcfvr6Lc3"
      },
      "execution_count": null,
      "outputs": []
    },
    {
      "cell_type": "code",
      "source": [
        "sum(g.overlap)"
      ],
      "metadata": {
        "colab": {
          "base_uri": "https://localhost:8080/"
        },
        "id": "LvpRFDLK6Mqj",
        "outputId": "bcbbc1ae-1631-49f6-df6d-42ab19e9f0bd"
      },
      "execution_count": null,
      "outputs": [
        {
          "output_type": "execute_result",
          "data": {
            "text/plain": [
              "870"
            ]
          },
          "metadata": {},
          "execution_count": 123
        }
      ]
    },
    {
      "cell_type": "markdown",
      "source": [
        "# DAY 5"
      ],
      "metadata": {
        "id": "8HBZxN4H6yfs"
      }
    },
    {
      "cell_type": "code",
      "source": [
        "datas=Path(\"input.txt\").read_text().split(\"\\n\")"
      ],
      "metadata": {
        "id": "ImiCNLCK60UJ"
      },
      "execution_count": null,
      "outputs": []
    },
    {
      "cell_type": "code",
      "source": [
        "initState=datas[:9]\n",
        "moves=datas[10:]"
      ],
      "metadata": {
        "id": "o7y8Dgds7J6-"
      },
      "execution_count": null,
      "outputs": []
    },
    {
      "cell_type": "code",
      "source": [
        "# parse state\n",
        "states=defaultdict(list)\n",
        "statesHead=initState[-1].strip().split(\"   \")\n",
        "for stateLine in initState[:-1]:\n",
        "  counter=0\n",
        "  cargo=defaultdict(list)\n",
        "  openLetter=False\n",
        "  nb=0\n",
        "  for stateLetter in stateLine:\n",
        "    if stateLetter == '[':\n",
        "      if nb%4 ==0 :\n",
        "        counter=nb//4\n",
        "      openLetter=True\n",
        "    elif stateLetter == ']':\n",
        "      openLetter=False\n",
        "    elif openLetter:\n",
        "      states[statesHead[counter]].append(stateLetter)\n",
        "    else:\n",
        "      if nb%4 ==0 :\n",
        "        counter=nb//4\n",
        "    nb+=1\n",
        "  counter=0\n",
        "  openLetter=False\n",
        "  nb=0\n"
      ],
      "metadata": {
        "id": "9wEjE3mG7Lho"
      },
      "execution_count": null,
      "outputs": []
    },
    {
      "cell_type": "code",
      "source": [
        "[1,2,3][::1]"
      ],
      "metadata": {
        "colab": {
          "base_uri": "https://localhost:8080/"
        },
        "id": "hEYd_BVs8oxN",
        "outputId": "6e971587-f4d6-405a-ef0a-c3344cb6cd50"
      },
      "execution_count": null,
      "outputs": [
        {
          "output_type": "execute_result",
          "data": {
            "text/plain": [
              "[1, 2, 3]"
            ]
          },
          "metadata": {},
          "execution_count": 137
        }
      ]
    },
    {
      "cell_type": "code",
      "source": [
        "def getState(states, reverse=True):\n",
        "  statesCopy={**states}\n",
        "  for move in moves:\n",
        "    # parse move, from, to\n",
        "    moveInt = move[4:move.index(\"f\")].strip()\n",
        "    fromInt = move[move.index(\"f\")+5:move.index(\"t\")].strip()\n",
        "    toInt = move[move.index(\"t\")+2:].strip()\n",
        "    \n",
        "    # THE KEY IS reverse\n",
        "    statesCopy[toInt]=statesCopy[fromInt][:int(moveInt)][::-1 if reverse else 1]+statesCopy[toInt]\n",
        "    statesCopy[fromInt]=statesCopy[fromInt][int(moveInt):]\n",
        "  return [i[1][0] for i in sorted(statesCopy.items(), key=lambda item:item[0])]"
      ],
      "metadata": {
        "id": "bsjrtPna8hd0"
      },
      "execution_count": null,
      "outputs": []
    },
    {
      "cell_type": "markdown",
      "source": [
        "## part 1"
      ],
      "metadata": {
        "id": "Ns-l0y618RtL"
      }
    },
    {
      "cell_type": "code",
      "source": [
        "print(*getState(states),sep=\"\")"
      ],
      "metadata": {
        "colab": {
          "base_uri": "https://localhost:8080/"
        },
        "id": "ROG8DdzP7Mkn",
        "outputId": "16b95546-4e76-4a1c-a94b-b2ea560c653e"
      },
      "execution_count": null,
      "outputs": [
        {
          "output_type": "stream",
          "name": "stdout",
          "text": [
            "ZBDRNPMVH\n"
          ]
        }
      ]
    },
    {
      "cell_type": "markdown",
      "source": [
        "## part 2"
      ],
      "metadata": {
        "id": "ozRda0-08GMg"
      }
    },
    {
      "cell_type": "code",
      "source": [
        "print(*getState(states,False),sep=\"\")"
      ],
      "metadata": {
        "colab": {
          "base_uri": "https://localhost:8080/"
        },
        "id": "VRAZdDxo8I6W",
        "outputId": "8d441a7d-1cc9-4eeb-96df-eb82f43cafb6"
      },
      "execution_count": null,
      "outputs": [
        {
          "output_type": "stream",
          "name": "stdout",
          "text": [
            "WDLPFNNNB\n"
          ]
        }
      ]
    },
    {
      "cell_type": "markdown",
      "source": [
        "# DAY 6"
      ],
      "metadata": {
        "id": "TRNgNYx7-Ggb"
      }
    },
    {
      "cell_type": "markdown",
      "source": [
        "read data"
      ],
      "metadata": {
        "id": "XFbbOagO_TPl"
      }
    },
    {
      "cell_type": "code",
      "source": [
        "a=Path(\"input.txt\").read_text()"
      ],
      "metadata": {
        "id": "ouH2v_DG9-vA"
      },
      "execution_count": null,
      "outputs": []
    },
    {
      "cell_type": "code",
      "source": [
        "def getNbCharBeforeN(a,n):\n",
        "  for ind in range(0,len(a)-n):\n",
        "    aa=[a[ind+j-1] not in a[ind:ind+n][j:] for j in range(1,n)]\n",
        "    if all(aa):\n",
        "      return ind+n"
      ],
      "metadata": {
        "id": "Q9-KpLC0-ZVt"
      },
      "execution_count": null,
      "outputs": []
    },
    {
      "cell_type": "markdown",
      "source": [
        "## part 1"
      ],
      "metadata": {
        "id": "OY_BthqM_LYc"
      }
    },
    {
      "cell_type": "code",
      "source": [
        "getNbCharBeforeN(a, 4)"
      ],
      "metadata": {
        "colab": {
          "base_uri": "https://localhost:8080/"
        },
        "id": "B0EFvyls-bPy",
        "outputId": "314352de-642f-4ec2-b1d6-aa60c43538c5"
      },
      "execution_count": null,
      "outputs": [
        {
          "output_type": "execute_result",
          "data": {
            "text/plain": [
              "1142"
            ]
          },
          "metadata": {},
          "execution_count": 176
        }
      ]
    },
    {
      "cell_type": "markdown",
      "source": [
        "## part 2"
      ],
      "metadata": {
        "id": "kFB-G1Jv_PRL"
      }
    },
    {
      "cell_type": "code",
      "source": [
        "getNbCharBeforeN(a, 14)"
      ],
      "metadata": {
        "colab": {
          "base_uri": "https://localhost:8080/"
        },
        "id": "xZpWVaWk_OFg",
        "outputId": "7344492c-85cd-4142-f73e-81976c6156cd"
      },
      "execution_count": null,
      "outputs": [
        {
          "output_type": "execute_result",
          "data": {
            "text/plain": [
              "2803"
            ]
          },
          "metadata": {},
          "execution_count": 177
        }
      ]
    },
    {
      "cell_type": "markdown",
      "source": [
        "# DAY 7"
      ],
      "metadata": {
        "id": "xZARJhUq_XmN"
      }
    },
    {
      "cell_type": "code",
      "source": [
        "text=Path(\"input.txt\").read_text().split(\"\\n\")"
      ],
      "metadata": {
        "id": "Kc27axCU_Q9G"
      },
      "execution_count": null,
      "outputs": []
    },
    {
      "cell_type": "code",
      "source": [
        "class File:\n",
        "    def __init__(self, path, size):\n",
        "        self.path = path\n",
        "        self._size = size\n",
        "\n",
        "    @property\n",
        "    def size(self):\n",
        "        return self._size\n",
        "\n",
        "\n",
        "class Dir:\n",
        "    def __init__(self, path, papa=None):\n",
        "        self.path = path\n",
        "        self.content = {}\n",
        "        self.papa = papa\n",
        "\n",
        "    @property\n",
        "    def size(self):\n",
        "        return sum([content.size for content in self.content.values()])\n",
        "\n",
        "    def getDir(self):\n",
        "        dirs = []\n",
        "        for i in self.content.values():\n",
        "            if type(i) == Dir:\n",
        "                dirs.extend([i, *i.getDir()])\n",
        "        return dirs"
      ],
      "metadata": {
        "id": "o1rtCEyg_j7C"
      },
      "execution_count": null,
      "outputs": []
    },
    {
      "cell_type": "code",
      "source": [
        "# parse cd & ls\n",
        "def parse_cd_ls():\n",
        "    root = Dir(\"/\")\n",
        "    outputs = []\n",
        "    cmd_with_output = []\n",
        "    curr = root\n",
        "    in_ls_cmd = False\n",
        "    for i in text[1:]:\n",
        "        if \"$ cd\" in i:\n",
        "            in_ls_cmd = False\n",
        "            cd = i.replace(\"$ cd \", \"\")\n",
        "            if cd == \"..\":\n",
        "                curr = curr.papa\n",
        "            else:\n",
        "                curr = curr.content[cd]\n",
        "        elif \"$ ls\" in i:\n",
        "            in_ls_cmd = True\n",
        "        elif in_ls_cmd:\n",
        "            if \"dir \" in i:\n",
        "                dir = i.replace(\"dir \", \"\")\n",
        "                curr.content[dir] = Dir(dir, curr)\n",
        "            else:\n",
        "                size, filepath = tuple(i.split(\" \"))\n",
        "                curr.content[filepath] = File(filepath, int(size))\n",
        "    return root"
      ],
      "metadata": {
        "id": "gJwCfWMt_nCZ"
      },
      "execution_count": null,
      "outputs": []
    },
    {
      "cell_type": "code",
      "source": [
        "root=parse_cd_ls()"
      ],
      "metadata": {
        "id": "qDgSLRF6Awzg"
      },
      "execution_count": null,
      "outputs": []
    },
    {
      "cell_type": "code",
      "source": [
        "dirs=root.getDir()"
      ],
      "metadata": {
        "id": "U3NoQtqKAU57"
      },
      "execution_count": null,
      "outputs": []
    },
    {
      "cell_type": "markdown",
      "source": [
        "## part 1"
      ],
      "metadata": {
        "id": "WOG6cmMY_1_x"
      }
    },
    {
      "cell_type": "code",
      "source": [
        "sum([i.size for i in dirs if i.size < 100000])"
      ],
      "metadata": {
        "colab": {
          "base_uri": "https://localhost:8080/"
        },
        "id": "Ty-U8Skk_tIl",
        "outputId": "55faa4a6-6286-47cd-8c1e-e2157a3f0006"
      },
      "execution_count": null,
      "outputs": [
        {
          "output_type": "execute_result",
          "data": {
            "text/plain": [
              "1845346"
            ]
          },
          "metadata": {},
          "execution_count": 222
        }
      ]
    },
    {
      "cell_type": "markdown",
      "source": [
        "## part 2"
      ],
      "metadata": {
        "id": "CutxmikOABjH"
      }
    },
    {
      "cell_type": "code",
      "source": [
        "target=30000000 - (70000000 - root.size)"
      ],
      "metadata": {
        "id": "nSUvEGo1BXsD"
      },
      "execution_count": null,
      "outputs": []
    },
    {
      "cell_type": "code",
      "source": [
        "dirsToDel = [\n",
        "    (i.size - target, i.size, i)\n",
        "    for i in dirs\n",
        "    if i.size >= target\n",
        "]"
      ],
      "metadata": {
        "id": "1cM1X8j5APtm"
      },
      "execution_count": null,
      "outputs": []
    },
    {
      "cell_type": "code",
      "source": [
        "sorted(dirsToDel,key=lambda x:x[0])[0][1]"
      ],
      "metadata": {
        "colab": {
          "base_uri": "https://localhost:8080/"
        },
        "id": "BS3L9_8hARL4",
        "outputId": "740ac692-d38e-4985-b138-04be9163cf82"
      },
      "execution_count": null,
      "outputs": [
        {
          "output_type": "execute_result",
          "data": {
            "text/plain": [
              "3636703"
            ]
          },
          "metadata": {},
          "execution_count": 227
        }
      ]
    },
    {
      "cell_type": "markdown",
      "source": [
        "# DAY 8"
      ],
      "metadata": {
        "id": "koCdfnInBbh1"
      }
    },
    {
      "cell_type": "code",
      "source": [
        "directions = [\"left\", \"top\", \"right\", \"bottom\"]"
      ],
      "metadata": {
        "id": "yOmmY_ANBwhD"
      },
      "execution_count": null,
      "outputs": []
    },
    {
      "cell_type": "code",
      "source": [
        "@dataclass\n",
        "class Tree:\n",
        "    number: int\n",
        "    n_row: int\n",
        "    n_col: int\n",
        "    row: int = 0\n",
        "    col: int = 0\n",
        "\n",
        "    def isBorder(self) -> bool:\n",
        "        return self.row in [0, self.n_row - 1] or self.col in [0, self.n_col - 1]\n",
        "\n",
        "    # part 1\n",
        "    def visible(self) -> bool:\n",
        "        if self.isBorder():\n",
        "            return True\n",
        "        return any(self._XVisible(self.number, x) for x in directions)\n",
        "    \n",
        "    def _XVisible(self, number: int, x: str) -> bool:\n",
        "        if self.isBorder():\n",
        "            return True\n",
        "        way = getattr(self, x)\n",
        "        return number > way.number and way._XVisible(number, x)\n",
        "    \n",
        "    # part 2\n",
        "    def scenic_score(self) -> int:\n",
        "      if self.isBorder():\n",
        "        return 0\n",
        "      return math.prod([self._nTreeVisibleX(self.number, x) for x in directions])\n",
        "        \n",
        "    def _nTreeVisibleX(self, number: int, x: str) -> int:\n",
        "        if self.isBorder():\n",
        "            return 0\n",
        "        way = getattr(self, x)\n",
        "        return 1 + way._nTreeVisibleX(number, x) if number > way.number else 1\n",
        "      \n",
        "    @staticmethod\n",
        "    def build_trees(data: str) -> List[\"Tree\"]:\n",
        "        n_row,n_col=len(data), len(data[0])\n",
        "        trees = {\n",
        "            (row, col): Tree(\n",
        "                number=int(data[row][col]),\n",
        "                row=row,\n",
        "                col=col,\n",
        "                n_row=n_row,\n",
        "                n_col=n_col,\n",
        "            )\n",
        "            for row in range(n_row)\n",
        "            for col in range(n_col)\n",
        "        }\n",
        "        for row in range(n_row):\n",
        "            for col in range(n_col):\n",
        "                t = trees[(row, col)]\n",
        "                if col - 1 >= 0:\n",
        "                    t.left = trees[(row, col - 1)]\n",
        "                if row - 1 >= 0:\n",
        "                    t.top = trees[(row - 1, col)]\n",
        "                if col + 1 < n_col:\n",
        "                    t.right = trees[(row, col + 1)]\n",
        "                if row + 1 < n_row:\n",
        "                    t.bottom = trees[(row + 1, col)]\n",
        "        return trees\n"
      ],
      "metadata": {
        "id": "EXm65qeWASYc"
      },
      "execution_count": null,
      "outputs": []
    },
    {
      "cell_type": "code",
      "source": [
        "trees = Tree.build_trees(data=Path(\"input.txt\").read_text().split(\"\\n\"))"
      ],
      "metadata": {
        "id": "HG5TSKk6Crn2"
      },
      "execution_count": null,
      "outputs": []
    },
    {
      "cell_type": "markdown",
      "source": [
        "## part 1"
      ],
      "metadata": {
        "id": "CC8WFZe3CmnO"
      }
    },
    {
      "cell_type": "code",
      "source": [
        "sum([tree.visible() for tree in trees.values()])"
      ],
      "metadata": {
        "colab": {
          "base_uri": "https://localhost:8080/"
        },
        "id": "pcA2q37PCpX5",
        "outputId": "c0161234-8c54-464e-b51b-ff04400186b6"
      },
      "execution_count": null,
      "outputs": [
        {
          "output_type": "execute_result",
          "data": {
            "text/plain": [
              "1717"
            ]
          },
          "metadata": {},
          "execution_count": 245
        }
      ]
    },
    {
      "cell_type": "markdown",
      "source": [
        "## part 2"
      ],
      "metadata": {
        "id": "J3saRBWsDBk_"
      }
    },
    {
      "cell_type": "code",
      "source": [
        "max(tree.scenic_score() for tree in trees.values())"
      ],
      "metadata": {
        "colab": {
          "base_uri": "https://localhost:8080/"
        },
        "id": "iXeew6n_DA4V",
        "outputId": "18975429-eda5-4373-929c-3b5ebb54f091"
      },
      "execution_count": null,
      "outputs": [
        {
          "output_type": "execute_result",
          "data": {
            "text/plain": [
              "321975"
            ]
          },
          "metadata": {},
          "execution_count": 246
        }
      ]
    },
    {
      "cell_type": "markdown",
      "source": [
        "# DAY 9"
      ],
      "metadata": {
        "id": "3yiTo0w8DH3u"
      }
    },
    {
      "cell_type": "markdown",
      "source": [
        "read data"
      ],
      "metadata": {
        "id": "3LuSLJhzD-tZ"
      }
    },
    {
      "cell_type": "code",
      "source": [
        "moves=Path(\"input.txt\").read_text().split(\"\\n\")"
      ],
      "metadata": {
        "id": "ylECkAnGDJfd"
      },
      "execution_count": null,
      "outputs": []
    },
    {
      "cell_type": "code",
      "source": [
        "class Dot:\n",
        "  def __init__(self, x, y,tracker=None, name=\"\"):\n",
        "    self.name=name\n",
        "    self.x=x\n",
        "    self.y=y\n",
        "    self.historic=[(x,y)]\n",
        "    self.tracker=tracker\n",
        "\n",
        "  def moveTo(self, x=0, y=0, *args):\n",
        "    self.x=x\n",
        "    self.y=y\n",
        "    self.historic.append((x,y))\n",
        "    if self.tracker:\n",
        "      self.tracker((x,y),*args)\n",
        "\n",
        "  def moveWith(self, x=0, y=0):\n",
        "    self.moveTo(self.x+x, self.y+y)\n",
        "  \n",
        "  def moveOneWith(self, way, reverse=False):\n",
        "    to=1 if not reverse else -1 \n",
        "    x,y=0,0\n",
        "    if way==\"x\":\n",
        "      x+=to \n",
        "    else:\n",
        "      y+=to\n",
        "    self.moveWith(x=x,y=y)\n",
        "\n",
        "  def moveWithWayAndNb(self, way, nb):\n",
        "    way_r = {\"U\":(\"y\",True),\"D\":(\"y\",False),\"L\":(\"x\",True), \"R\":(\"x\", False)}\n",
        "    way_r_way=way_r[way]\n",
        "    for _ in range(nb):\n",
        "      self.moveOneWith(way=way_r_way[0], reverse=way_r_way[1])\n",
        "  \n",
        "  def isAway(self, pos):\n",
        "    x,y=pos\n",
        "    x_diff=abs(self.x-x) \n",
        "    y_diff=abs(self.y-y)\n",
        "    return x_diff > 1 or y_diff > 1\n",
        "\n",
        "  def __repr__(self):\n",
        "    return f\"[{self.name}] x: {self.x}, y: {self.y}\"\n",
        "\n",
        "class Head(Dot):pass\n",
        "class Tail(Dot):\n",
        "  def __init__(self, *args, **kwargs):\n",
        "    super().__init__(*args,**kwargs)\n",
        "    self.lastPosTracked=None\n",
        "  \n",
        "  def track(self, pos, inertie=(0,0)):\n",
        "    isAway=self.isAway(pos)\n",
        "    if isAway:\n",
        "        lastPosX,lastPosY=self.lastPosTracked\n",
        "        x_i,y_i=inertie\n",
        "        xx=lastPosX-self.x\n",
        "        yy=lastPosY-self.y\n",
        "        # BEGIN - WTF PART\n",
        "        xf=(x_i if xx == x_i else xx+x_i)+self.x\n",
        "        yf=(y_i if yy == y_i else yy+y_i)+self.y\n",
        "        # END - WTF PART\n",
        "        self.moveTo(xf, yf, (xf-self.x, yf-self.y))\n",
        "    self.lastPosTracked=pos"
      ],
      "metadata": {
        "id": "Yc8vSb0DDc1a"
      },
      "execution_count": null,
      "outputs": []
    },
    {
      "cell_type": "code",
      "source": [
        "def parse_and_move(data, head, tail):\n",
        "  # parse moves\n",
        "  moves_parsed=[(i[0],int(i[1:])) for i in data]\n",
        "  # move\n",
        "  for way,nb in moves_parsed:  \n",
        "    head.moveWithWayAndNb(way, nb)\n",
        "  return (head, tail)"
      ],
      "metadata": {
        "id": "-XaNlYwkDicj"
      },
      "execution_count": null,
      "outputs": []
    },
    {
      "cell_type": "markdown",
      "source": [
        "## part 1"
      ],
      "metadata": {
        "id": "Ow7y-rRLDkMi"
      }
    },
    {
      "cell_type": "code",
      "source": [
        "def run_part1(data):\n",
        "  tail=Tail(0,0)\n",
        "  head=Head(0,0, tail.track)\n",
        "  return parse_and_move(data, head, tail)"
      ],
      "metadata": {
        "id": "rc8R9WEXDkyF"
      },
      "execution_count": null,
      "outputs": []
    },
    {
      "cell_type": "code",
      "source": [
        "head, tail = run_part1(moves)"
      ],
      "metadata": {
        "id": "aLZApAE6Dmy8"
      },
      "execution_count": null,
      "outputs": []
    },
    {
      "cell_type": "code",
      "source": [
        "len(set(tail.historic))"
      ],
      "metadata": {
        "colab": {
          "base_uri": "https://localhost:8080/"
        },
        "id": "VBFdzYNcDv2r",
        "outputId": "1b7d9346-242f-45c4-f57a-d620fb39b8b8"
      },
      "execution_count": null,
      "outputs": [
        {
          "output_type": "execute_result",
          "data": {
            "text/plain": [
              "6175"
            ]
          },
          "metadata": {},
          "execution_count": 260
        }
      ]
    },
    {
      "cell_type": "markdown",
      "source": [
        "## part 2"
      ],
      "metadata": {
        "id": "lOLkrKmWDl-W"
      }
    },
    {
      "cell_type": "code",
      "source": [
        "def run_part2(data):\n",
        "  tails=[Tail(0,0,None,9)]\n",
        "  for i in range(8):\n",
        "    tails.append(Tail(0,0,tails[-1].track,8-i))\n",
        "  head=Head(0,0, tails[-1].track)\n",
        "  return parse_and_move(data, head, tails)"
      ],
      "metadata": {
        "id": "3er-StBDDmjV"
      },
      "execution_count": null,
      "outputs": []
    },
    {
      "cell_type": "code",
      "source": [
        "head, tails = run_part2(moves)"
      ],
      "metadata": {
        "id": "YIZGqPsPDzQb"
      },
      "execution_count": null,
      "outputs": []
    },
    {
      "cell_type": "code",
      "source": [
        "len(set(tails[0].historic))"
      ],
      "metadata": {
        "colab": {
          "base_uri": "https://localhost:8080/"
        },
        "id": "K5jNfO1KD1oc",
        "outputId": "b8bccb98-7ce1-4b34-c12e-09b7cf8b8364"
      },
      "execution_count": null,
      "outputs": [
        {
          "output_type": "execute_result",
          "data": {
            "text/plain": [
              "2578"
            ]
          },
          "metadata": {},
          "execution_count": 263
        }
      ]
    },
    {
      "cell_type": "markdown",
      "source": [
        "# DAY 10"
      ],
      "metadata": {
        "id": "IN_oZN2pIaH4"
      }
    },
    {
      "cell_type": "code",
      "source": [
        "data = pd.read_csv(\"input.txt\", header=None)\n",
        "data.columns=[\"cmd\"]"
      ],
      "metadata": {
        "id": "UBwXRpjRIbu9"
      },
      "execution_count": 4,
      "outputs": []
    },
    {
      "cell_type": "code",
      "source": [
        "data[\"register\"]=data.cmd.str.extract(\"(-?\\d+)\").fillna(0).astype(\"int\")\n",
        "data[\"register_sum\"]=data.register.cumsum()+1"
      ],
      "metadata": {
        "id": "qV5GOwUnIjVT"
      },
      "execution_count": 5,
      "outputs": []
    },
    {
      "cell_type": "code",
      "source": [
        "data[\"cycle\"]=data.cmd.str.match(\"noop\").map({True: 1,False:2})\n",
        "data[\"cycle_cum\"]=data[\"cycle\"].cumsum()"
      ],
      "metadata": {
        "id": "FbyJ3zzlIlKX"
      },
      "execution_count": 6,
      "outputs": []
    },
    {
      "cell_type": "markdown",
      "source": [
        "## part 1"
      ],
      "metadata": {
        "id": "CGhpebVxIl4c"
      }
    },
    {
      "cell_type": "code",
      "source": [
        "cycles_s=[20, 60, 100, 140, 180, 220]\n",
        "cycles_s_index=[(i-data.cycle_cum-1).where(lambda x:x>=0).dropna().idxmin() for i in cycles_s]"
      ],
      "metadata": {
        "id": "JAbjHX6CInV4"
      },
      "execution_count": 7,
      "outputs": []
    },
    {
      "cell_type": "code",
      "source": [
        "(data.loc[cycles_s_index].register_sum*cycles_s).sum()"
      ],
      "metadata": {
        "colab": {
          "base_uri": "https://localhost:8080/"
        },
        "id": "KSOPiq4UIqdR",
        "outputId": "e8967812-1741-4288-dea7-696f7f07880f"
      },
      "execution_count": 8,
      "outputs": [
        {
          "output_type": "execute_result",
          "data": {
            "text/plain": [
              "13760"
            ]
          },
          "metadata": {},
          "execution_count": 8
        }
      ]
    },
    {
      "cell_type": "markdown",
      "source": [
        "## part 2"
      ],
      "metadata": {
        "id": "5j46JVTTIq8F"
      }
    },
    {
      "cell_type": "code",
      "source": [
        "sprite_pos=0\n",
        "margin=3\n",
        "CRT=\"\"\n",
        "CRT_list=[]\n",
        "cycles_c=0\n",
        "for k,v in data.iterrows():\n",
        "  for c in range(v.cycle):\n",
        "    if (cycles_c)%40==0:\n",
        "      CRT_list.append(CRT)\n",
        "      CRT=\"\"\n",
        "      sprite_pos=0\n",
        "    CRT_pos=len(CRT)\n",
        "    if CRT_pos < sprite_pos+margin and CRT_pos >=sprite_pos:\n",
        "      CRT+=\"#\"\n",
        "    else:\n",
        "      CRT+=\".\"\n",
        "    cycles_c+=1\n",
        "  sprite_pos=v.register_sum-1\n",
        "CRT_list.append(CRT)\n"
      ],
      "metadata": {
        "id": "b_iBYlW2Is1G"
      },
      "execution_count": 9,
      "outputs": []
    },
    {
      "cell_type": "code",
      "source": [
        "CRT_list[1:]"
      ],
      "metadata": {
        "colab": {
          "base_uri": "https://localhost:8080/"
        },
        "id": "CpZGB2IyIvvA",
        "outputId": "e03c88b1-2b68-44d8-b218-f28705d16605"
      },
      "execution_count": 16,
      "outputs": [
        {
          "output_type": "execute_result",
          "data": {
            "text/plain": [
              "['###..####.#..#.####..##..###..####.####.',\n",
              " '#..#.#....#.#.....#.#..#.#..#.#....#....',\n",
              " '#..#.###..##.....#..#....#..#.###..###..',\n",
              " '###..#....#.#...#...#....###..#....#....',\n",
              " '#.#..#....#.#..#....#..#.#....#....#....',\n",
              " '##.#.#....#..#.####..##..#....####.#....']"
            ]
          },
          "metadata": {},
          "execution_count": 16
        }
      ]
    }
  ]
}